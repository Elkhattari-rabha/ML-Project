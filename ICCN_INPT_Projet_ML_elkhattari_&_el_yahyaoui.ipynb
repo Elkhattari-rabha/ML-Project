{
  "nbformat": 4,
  "nbformat_minor": 0,
  "metadata": {
    "colab": {
      "name": "ICCN-INPT-Projet-ML-elkhattari & el-yahyaoui",
      "provenance": [],
      "collapsed_sections": [],
      "include_colab_link": true
    },
    "kernelspec": {
      "name": "python3",
      "display_name": "Python 3"
    }
  },
  "cells": [
    {
      "cell_type": "markdown",
      "metadata": {
        "id": "view-in-github",
        "colab_type": "text"
      },
      "source": [
        "<a href=\"https://colab.research.google.com/github/elyahyaouiabdenasser/ML-Project/blob/master/ICCN_INPT_Projet_ML_elkhattari_%26_el_yahyaoui.ipynb\" target=\"_parent\"><img src=\"https://colab.research.google.com/assets/colab-badge.svg\" alt=\"Open In Colab\"/></a>"
      ]
    },
    {
      "cell_type": "code",
      "metadata": {
        "colab_type": "code",
        "id": "BOFKTp-t2WyK",
        "colab": {}
      },
      "source": [
        "from google.colab import drive\n",
        "drive.mount('/content/drive')"
      ],
      "execution_count": 0,
      "outputs": []
    },
    {
      "cell_type": "code",
      "metadata": {
        "id": "3nvPL4GUamD5",
        "colab_type": "code",
        "outputId": "9d6059fe-8827-4d36-9dab-549744d2596e",
        "colab": {
          "base_uri": "https://localhost:8080/",
          "height": 34
        }
      },
      "source": [
        "from scipy.io import loadmat\n",
        "data_path1='/content/drive/My Drive/notre base de données/'\n",
        "print(\"Loading data training set\")        \n",
        "dataset =loadmat('/content/drive/My Drive/notre base de données/' + 'trainingset.mat')\n",
        "X = dataset['trainset']\n",
        "y = dataset['traintarget']"
      ],
      "execution_count": 5,
      "outputs": [
        {
          "output_type": "stream",
          "text": [
            "Loading data training set\n"
          ],
          "name": "stdout"
        }
      ]
    },
    {
      "cell_type": "code",
      "metadata": {
        "id": "wCVJmbSCbIDL",
        "colab_type": "code",
        "colab": {}
      },
      "source": [
        "import numpy as np\n",
        "from sklearn.model_selection import train_test_split\n",
        "X_train1,X_test,y_train1,y_test=train_test_split(X,y,test_size=0.2)\n",
        "X_train,X_val,y_train,y_val=train_test_split(X_train1,y_train1,test_size=0.1)"
      ],
      "execution_count": 0,
      "outputs": []
    },
    {
      "cell_type": "code",
      "metadata": {
        "id": "k44mS7NsDgxp",
        "colab_type": "code",
        "colab": {}
      },
      "source": [
        "\n",
        "from __future__ import absolute_import, division, print_function, unicode_literals\n",
        "\n",
        "import tensorflow as tf\n",
        "\n",
        "from tensorflow import keras\n"
      ],
      "execution_count": 0,
      "outputs": []
    },
    {
      "cell_type": "code",
      "metadata": {
        "id": "vOIG4aH5bqeh",
        "colab_type": "code",
        "colab": {}
      },
      "source": [
        "from tensorflow.keras import layers\n",
        "#notre model est vide mtn qu'on va le remplir\n",
        "model = tf.keras.Sequential()\n",
        "#input_dim nbr de variable en entré \n",
        "model.add(layers.Dense(128,activation=\"relu\"))\n",
        "#par default l'entré \n",
        "model.add(layers.Dense(64,activation=\"relu\"))\n",
        "model.add(layers.Dense(4,activation=\"relu\"))"
      ],
      "execution_count": 0,
      "outputs": []
    },
    {
      "cell_type": "code",
      "metadata": {
        "id": "4CzpP9FgsnZk",
        "colab_type": "code",
        "colab": {}
      },
      "source": [
        "#accurancy=nbr correct  des predictions sur le nbr total\n",
        "\n",
        "model.compile(loss=\"binary_crossentropy\",optimizer=\"sgd\",metrics=[\"accuracy\"])"
      ],
      "execution_count": 0,
      "outputs": []
    },
    {
      "cell_type": "code",
      "metadata": {
        "id": "1iWIJmK_syVd",
        "colab_type": "code",
        "colab": {
          "base_uri": "https://localhost:8080/",
          "height": 1000
        },
        "outputId": "969b686a-9aa1-4029-f2d5-36a50c5e37b1"
      },
      "source": [
        "#batc_size = le lot qui contient les element à traiter à la fois \n",
        "history=model.fit(X_train,y_train,validation_data=(X_val,y_val),epochs=60,batch_size=100)\n",
        "#_,acc=model.evaluate(X,y"
      ],
      "execution_count": 10,
      "outputs": [
        {
          "output_type": "stream",
          "text": [
            "Epoch 1/60\n",
            "101/101 [==============================] - 3s 28ms/step - loss: 2.0360 - accuracy: 0.3747 - val_loss: 2.3012 - val_accuracy: 0.4700\n",
            "Epoch 2/60\n",
            "101/101 [==============================] - 3s 26ms/step - loss: 2.3511 - accuracy: 0.4460 - val_loss: 2.3034 - val_accuracy: 0.4673\n",
            "Epoch 3/60\n",
            "101/101 [==============================] - 3s 27ms/step - loss: 2.3619 - accuracy: 0.4496 - val_loss: 2.2980 - val_accuracy: 0.4682\n",
            "Epoch 4/60\n",
            "101/101 [==============================] - 3s 27ms/step - loss: 2.3459 - accuracy: 0.4450 - val_loss: 2.2979 - val_accuracy: 0.4691\n",
            "Epoch 5/60\n",
            "101/101 [==============================] - 3s 25ms/step - loss: 2.3449 - accuracy: 0.4456 - val_loss: 2.2981 - val_accuracy: 0.4691\n",
            "Epoch 6/60\n",
            "101/101 [==============================] - 3s 26ms/step - loss: 2.3506 - accuracy: 0.4457 - val_loss: 2.3009 - val_accuracy: 0.4682\n",
            "Epoch 7/60\n",
            "101/101 [==============================] - 3s 26ms/step - loss: 2.3523 - accuracy: 0.4460 - val_loss: 2.2982 - val_accuracy: 0.4691\n",
            "Epoch 8/60\n",
            "101/101 [==============================] - 3s 27ms/step - loss: 2.3490 - accuracy: 0.4460 - val_loss: 2.2981 - val_accuracy: 0.4691\n",
            "Epoch 9/60\n",
            "101/101 [==============================] - 3s 26ms/step - loss: 2.3512 - accuracy: 0.4460 - val_loss: 2.2981 - val_accuracy: 0.4691\n",
            "Epoch 10/60\n",
            "101/101 [==============================] - 3s 26ms/step - loss: 2.3479 - accuracy: 0.4460 - val_loss: 2.2981 - val_accuracy: 0.4691\n",
            "Epoch 11/60\n",
            "101/101 [==============================] - 3s 27ms/step - loss: 2.3457 - accuracy: 0.4460 - val_loss: 2.2981 - val_accuracy: 0.4691\n",
            "Epoch 12/60\n",
            "101/101 [==============================] - 3s 27ms/step - loss: 2.3512 - accuracy: 0.4460 - val_loss: 2.2981 - val_accuracy: 0.4691\n",
            "Epoch 13/60\n",
            "101/101 [==============================] - 3s 25ms/step - loss: 2.3533 - accuracy: 0.4460 - val_loss: 2.2981 - val_accuracy: 0.4691\n",
            "Epoch 14/60\n",
            "101/101 [==============================] - 3s 26ms/step - loss: 2.3479 - accuracy: 0.4460 - val_loss: 2.2981 - val_accuracy: 0.4691\n",
            "Epoch 15/60\n",
            "101/101 [==============================] - 3s 26ms/step - loss: 2.3479 - accuracy: 0.4460 - val_loss: 2.2981 - val_accuracy: 0.4691\n",
            "Epoch 16/60\n",
            "101/101 [==============================] - 3s 27ms/step - loss: 2.3501 - accuracy: 0.4460 - val_loss: 2.2981 - val_accuracy: 0.4691\n",
            "Epoch 17/60\n",
            "101/101 [==============================] - 3s 26ms/step - loss: 2.3479 - accuracy: 0.4460 - val_loss: 2.2981 - val_accuracy: 0.4691\n",
            "Epoch 18/60\n",
            "101/101 [==============================] - 3s 26ms/step - loss: 2.3457 - accuracy: 0.4460 - val_loss: 2.2981 - val_accuracy: 0.4691\n",
            "Epoch 19/60\n",
            "101/101 [==============================] - 3s 25ms/step - loss: 2.3490 - accuracy: 0.4460 - val_loss: 2.2981 - val_accuracy: 0.4691\n",
            "Epoch 20/60\n",
            "101/101 [==============================] - 3s 26ms/step - loss: 2.3490 - accuracy: 0.4460 - val_loss: 2.2981 - val_accuracy: 0.4691\n",
            "Epoch 21/60\n",
            "101/101 [==============================] - 3s 26ms/step - loss: 2.3523 - accuracy: 0.4460 - val_loss: 2.2981 - val_accuracy: 0.4691\n",
            "Epoch 22/60\n",
            "101/101 [==============================] - 3s 25ms/step - loss: 2.3490 - accuracy: 0.4460 - val_loss: 2.2981 - val_accuracy: 0.4691\n",
            "Epoch 23/60\n",
            "101/101 [==============================] - 3s 26ms/step - loss: 2.3468 - accuracy: 0.4460 - val_loss: 2.2981 - val_accuracy: 0.4691\n",
            "Epoch 24/60\n",
            "101/101 [==============================] - 3s 26ms/step - loss: 2.3512 - accuracy: 0.4460 - val_loss: 2.2981 - val_accuracy: 0.4691\n",
            "Epoch 25/60\n",
            "101/101 [==============================] - 3s 25ms/step - loss: 2.3468 - accuracy: 0.4460 - val_loss: 2.2981 - val_accuracy: 0.4691\n",
            "Epoch 26/60\n",
            "101/101 [==============================] - 3s 26ms/step - loss: 2.3479 - accuracy: 0.4460 - val_loss: 2.2981 - val_accuracy: 0.4691\n",
            "Epoch 27/60\n",
            "101/101 [==============================] - 3s 26ms/step - loss: 2.3446 - accuracy: 0.4460 - val_loss: 2.2981 - val_accuracy: 0.4691\n",
            "Epoch 28/60\n",
            "101/101 [==============================] - 3s 25ms/step - loss: 2.3501 - accuracy: 0.4460 - val_loss: 2.2981 - val_accuracy: 0.4691\n",
            "Epoch 29/60\n",
            "101/101 [==============================] - 3s 26ms/step - loss: 2.3490 - accuracy: 0.4460 - val_loss: 2.2981 - val_accuracy: 0.4691\n",
            "Epoch 30/60\n",
            "101/101 [==============================] - 3s 26ms/step - loss: 2.3512 - accuracy: 0.4460 - val_loss: 2.2981 - val_accuracy: 0.4691\n",
            "Epoch 31/60\n",
            "101/101 [==============================] - 3s 25ms/step - loss: 2.3512 - accuracy: 0.4460 - val_loss: 2.2981 - val_accuracy: 0.4691\n",
            "Epoch 32/60\n",
            "101/101 [==============================] - 3s 26ms/step - loss: 2.3479 - accuracy: 0.4460 - val_loss: 2.2981 - val_accuracy: 0.4691\n",
            "Epoch 33/60\n",
            "101/101 [==============================] - 3s 25ms/step - loss: 2.3501 - accuracy: 0.4460 - val_loss: 2.2981 - val_accuracy: 0.4691\n",
            "Epoch 34/60\n",
            "101/101 [==============================] - 3s 26ms/step - loss: 2.3446 - accuracy: 0.4460 - val_loss: 2.2981 - val_accuracy: 0.4691\n",
            "Epoch 35/60\n",
            "101/101 [==============================] - 3s 27ms/step - loss: 2.3501 - accuracy: 0.4460 - val_loss: 2.2981 - val_accuracy: 0.4691\n",
            "Epoch 36/60\n",
            "101/101 [==============================] - 3s 26ms/step - loss: 2.3468 - accuracy: 0.4460 - val_loss: 2.2981 - val_accuracy: 0.4691\n",
            "Epoch 37/60\n",
            "101/101 [==============================] - 3s 25ms/step - loss: 2.3479 - accuracy: 0.4460 - val_loss: 2.2981 - val_accuracy: 0.4691\n",
            "Epoch 38/60\n",
            "101/101 [==============================] - 3s 26ms/step - loss: 2.3479 - accuracy: 0.4460 - val_loss: 2.2981 - val_accuracy: 0.4691\n",
            "Epoch 39/60\n",
            "101/101 [==============================] - 3s 27ms/step - loss: 2.3479 - accuracy: 0.4460 - val_loss: 2.2981 - val_accuracy: 0.4691\n",
            "Epoch 40/60\n",
            "101/101 [==============================] - 3s 27ms/step - loss: 2.3490 - accuracy: 0.4460 - val_loss: 2.2981 - val_accuracy: 0.4691\n",
            "Epoch 41/60\n",
            "101/101 [==============================] - 3s 25ms/step - loss: 2.3501 - accuracy: 0.4460 - val_loss: 2.2981 - val_accuracy: 0.4691\n",
            "Epoch 42/60\n",
            "101/101 [==============================] - 3s 27ms/step - loss: 2.3501 - accuracy: 0.4460 - val_loss: 2.2981 - val_accuracy: 0.4691\n",
            "Epoch 43/60\n",
            "101/101 [==============================] - 3s 27ms/step - loss: 2.3457 - accuracy: 0.4460 - val_loss: 2.2981 - val_accuracy: 0.4691\n",
            "Epoch 44/60\n",
            "101/101 [==============================] - 3s 26ms/step - loss: 2.3425 - accuracy: 0.4460 - val_loss: 2.2981 - val_accuracy: 0.4691\n",
            "Epoch 45/60\n",
            "101/101 [==============================] - 3s 26ms/step - loss: 2.3479 - accuracy: 0.4460 - val_loss: 2.2981 - val_accuracy: 0.4691\n",
            "Epoch 46/60\n",
            "101/101 [==============================] - 3s 27ms/step - loss: 2.3479 - accuracy: 0.4460 - val_loss: 2.2981 - val_accuracy: 0.4691\n",
            "Epoch 47/60\n",
            "101/101 [==============================] - 3s 25ms/step - loss: 2.3479 - accuracy: 0.4460 - val_loss: 2.2981 - val_accuracy: 0.4691\n",
            "Epoch 48/60\n",
            "101/101 [==============================] - 3s 26ms/step - loss: 2.3501 - accuracy: 0.4460 - val_loss: 2.2981 - val_accuracy: 0.4691\n",
            "Epoch 49/60\n",
            "101/101 [==============================] - 3s 26ms/step - loss: 2.3414 - accuracy: 0.4460 - val_loss: 2.2981 - val_accuracy: 0.4691\n",
            "Epoch 50/60\n",
            "101/101 [==============================] - 3s 25ms/step - loss: 2.3490 - accuracy: 0.4460 - val_loss: 2.2981 - val_accuracy: 0.4691\n",
            "Epoch 51/60\n",
            "101/101 [==============================] - 3s 25ms/step - loss: 2.3479 - accuracy: 0.4460 - val_loss: 2.2981 - val_accuracy: 0.4691\n",
            "Epoch 52/60\n",
            "101/101 [==============================] - 3s 26ms/step - loss: 2.3544 - accuracy: 0.4460 - val_loss: 2.2981 - val_accuracy: 0.4691\n",
            "Epoch 53/60\n",
            "101/101 [==============================] - 3s 26ms/step - loss: 2.3479 - accuracy: 0.4460 - val_loss: 2.2981 - val_accuracy: 0.4691\n",
            "Epoch 54/60\n",
            "101/101 [==============================] - 3s 26ms/step - loss: 2.3457 - accuracy: 0.4460 - val_loss: 2.2981 - val_accuracy: 0.4691\n",
            "Epoch 55/60\n",
            "101/101 [==============================] - 3s 26ms/step - loss: 2.3490 - accuracy: 0.4460 - val_loss: 2.2981 - val_accuracy: 0.4691\n",
            "Epoch 56/60\n",
            "101/101 [==============================] - 3s 26ms/step - loss: 2.3425 - accuracy: 0.4460 - val_loss: 2.2981 - val_accuracy: 0.4691\n",
            "Epoch 57/60\n",
            "101/101 [==============================] - 3s 25ms/step - loss: 2.3468 - accuracy: 0.4460 - val_loss: 2.2981 - val_accuracy: 0.4691\n",
            "Epoch 58/60\n",
            "101/101 [==============================] - 3s 27ms/step - loss: 2.3479 - accuracy: 0.4460 - val_loss: 2.2981 - val_accuracy: 0.4691\n",
            "Epoch 59/60\n",
            "101/101 [==============================] - 3s 25ms/step - loss: 2.3501 - accuracy: 0.4460 - val_loss: 2.2981 - val_accuracy: 0.4691\n",
            "Epoch 60/60\n",
            "101/101 [==============================] - 3s 25ms/step - loss: 2.3468 - accuracy: 0.4460 - val_loss: 2.2981 - val_accuracy: 0.4691\n"
          ],
          "name": "stdout"
        }
      ]
    },
    {
      "cell_type": "code",
      "metadata": {
        "id": "xtoGgP8up2nE",
        "colab_type": "code",
        "colab": {
          "base_uri": "https://localhost:8080/",
          "height": 141
        },
        "outputId": "528df708-9f1d-4397-c861-c8aa795b2a26"
      },
      "source": [
        "\n",
        "# The returned \"history\" object holds a record of the loss values and metric values during training\n",
        "print('\\nhistory dict:', history.history)\n",
        "\n",
        "# Evaluate the model on the test data using `evaluate`\n",
        "print('\\n# Evaluate on test data')\n",
        "results = model.evaluate(X_test, y_test, batch_size=128)\n",
        "print('test loss, test acc:', results)\n",
        "#prediction \n",
        "#model.predict(X_val)"
      ],
      "execution_count": 11,
      "outputs": [
        {
          "output_type": "stream",
          "text": [
            "\n",
            "history dict: {'loss': [2.0360493659973145, 2.3511345386505127, 2.361921787261963, 2.345949649810791, 2.34488844871521, 2.350600242614746, 2.3522961139678955, 2.349005699157715, 2.351168155670166, 2.3479068279266357, 2.345733404159546, 2.3511674404144287, 2.3533401489257812, 2.3479065895080566, 2.3479068279266357, 2.3500802516937256, 2.347907543182373, 2.3457343578338623, 2.3489930629730225, 2.348994255065918, 2.3522539138793945, 2.3489937782287598, 2.34682035446167, 2.3511667251586914, 2.346820116043091, 2.3479063510894775, 2.344647169113159, 2.3500804901123047, 2.348994493484497, 2.3511667251586914, 2.3511672019958496, 2.3479068279266357, 2.3500802516937256, 2.344646453857422, 2.3500804901123047, 2.346820592880249, 2.3479065895080566, 2.347907304763794, 2.3479068279266357, 2.3489935398101807, 2.3500802516937256, 2.3500804901123047, 2.345733642578125, 2.3424737453460693, 2.347907304763794, 2.347907304763794, 2.3479068279266357, 2.3500804901123047, 2.3413867950439453, 2.3489935398101807, 2.347907304763794, 2.3544273376464844, 2.347907543182373, 2.345733404159546, 2.3489937782287598, 2.3424737453460693, 2.346820116043091, 2.3479068279266357, 2.3500802516937256, 2.3468196392059326], 'accuracy': [0.37472569942474365, 0.4460403025150299, 0.4496309459209442, 0.4450428783893585, 0.44564133882522583, 0.44574108719825745, 0.4460403025150299, 0.4460403025150299, 0.4460403025150299, 0.4460403025150299, 0.4460403025150299, 0.4460403025150299, 0.4460403025150299, 0.4460403025150299, 0.4460403025150299, 0.4460403025150299, 0.4460403025150299, 0.4460403025150299, 0.4460403025150299, 0.4460403025150299, 0.4460403025150299, 0.4460403025150299, 0.4460403025150299, 0.4460403025150299, 0.4460403025150299, 0.4460403025150299, 0.4460403025150299, 0.4460403025150299, 0.4460403025150299, 0.4460403025150299, 0.4460403025150299, 0.4460403025150299, 0.4460403025150299, 0.4460403025150299, 0.4460403025150299, 0.4460403025150299, 0.4460403025150299, 0.4460403025150299, 0.4460403025150299, 0.4460403025150299, 0.4460403025150299, 0.4460403025150299, 0.4460403025150299, 0.4460403025150299, 0.4460403025150299, 0.4460403025150299, 0.4460403025150299, 0.4460403025150299, 0.4460403025150299, 0.4460403025150299, 0.4460403025150299, 0.4460403025150299, 0.4460403025150299, 0.4460403025150299, 0.4460403025150299, 0.4460403025150299, 0.4460403025150299, 0.4460403025150299, 0.4460403025150299, 0.4460403025150299], 'val_loss': [2.301217555999756, 2.3033640384674072, 2.297978162765503, 2.297863006591797, 2.2981321811676025, 2.3009297847747803, 2.298199415206909, 2.2981441020965576, 2.2981479167938232, 2.2981479167938232, 2.2981479167938232, 2.2981479167938232, 2.2981479167938232, 2.2981479167938232, 2.2981479167938232, 2.2981479167938232, 2.2981479167938232, 2.2981479167938232, 2.2981479167938232, 2.2981479167938232, 2.2981479167938232, 2.2981479167938232, 2.2981479167938232, 2.2981479167938232, 2.2981479167938232, 2.2981479167938232, 2.2981479167938232, 2.2981479167938232, 2.2981479167938232, 2.2981479167938232, 2.2981479167938232, 2.2981479167938232, 2.2981479167938232, 2.2981479167938232, 2.2981479167938232, 2.2981479167938232, 2.2981479167938232, 2.2981479167938232, 2.2981479167938232, 2.2981479167938232, 2.2981479167938232, 2.2981479167938232, 2.2981479167938232, 2.2981479167938232, 2.2981479167938232, 2.2981479167938232, 2.2981479167938232, 2.2981479167938232, 2.2981479167938232, 2.2981479167938232, 2.2981479167938232, 2.2981479167938232, 2.2981479167938232, 2.2981479167938232, 2.2981479167938232, 2.2981479167938232, 2.2981479167938232, 2.2981479167938232, 2.2981479167938232, 2.2981479167938232], 'val_accuracy': [0.4699551463127136, 0.4672645628452301, 0.4681614339351654, 0.4690583050251007, 0.4690583050251007, 0.4681614339351654, 0.4690583050251007, 0.4690583050251007, 0.4690583050251007, 0.4690583050251007, 0.4690583050251007, 0.4690583050251007, 0.4690583050251007, 0.4690583050251007, 0.4690583050251007, 0.4690583050251007, 0.4690583050251007, 0.4690583050251007, 0.4690583050251007, 0.4690583050251007, 0.4690583050251007, 0.4690583050251007, 0.4690583050251007, 0.4690583050251007, 0.4690583050251007, 0.4690583050251007, 0.4690583050251007, 0.4690583050251007, 0.4690583050251007, 0.4690583050251007, 0.4690583050251007, 0.4690583050251007, 0.4690583050251007, 0.4690583050251007, 0.4690583050251007, 0.4690583050251007, 0.4690583050251007, 0.4690583050251007, 0.4690583050251007, 0.4690583050251007, 0.4690583050251007, 0.4690583050251007, 0.4690583050251007, 0.4690583050251007, 0.4690583050251007, 0.4690583050251007, 0.4690583050251007, 0.4690583050251007, 0.4690583050251007, 0.4690583050251007, 0.4690583050251007, 0.4690583050251007, 0.4690583050251007, 0.4690583050251007, 0.4690583050251007, 0.4690583050251007, 0.4690583050251007, 0.4690583050251007, 0.4690583050251007, 0.4690583050251007]}\n",
            "\n",
            "# Evaluate on test data\n",
            "22/22 [==============================] - 0s 13ms/step - loss: 2.4070 - accuracy: 0.4368\n",
            "test loss, test acc: [2.4069690704345703, 0.43682700395584106]\n"
          ],
          "name": "stdout"
        }
      ]
    },
    {
      "cell_type": "code",
      "metadata": {
        "id": "c-V1e8_iLV3L",
        "colab_type": "code",
        "colab": {
          "base_uri": "https://localhost:8080/",
          "height": 319
        },
        "outputId": "dde61ae1-6371-498b-93d3-166054e9b9f8"
      },
      "source": [
        "#Tracer  la courbe   Accuracy du model pour training et testing \n",
        "import matplotlib.pyplot as plt\n",
        "plt.plot(history.history['accuracy'],'r',linewidth=3.0, label='Training Accuracy')\n",
        "plt.plot(history.history['val_accuracy'],'b',linewidth=3.0, label='Testing Accuracy')\n",
        "plt.legend(fontsize=18)\n",
        "plt.xlabel('Epochs ', fontsize=16)\n",
        "plt.ylabel('Accuracy', fontsize=16)\n",
        "plt.title('Accuracy Curves', fontsize=16)"
      ],
      "execution_count": 12,
      "outputs": [
        {
          "output_type": "execute_result",
          "data": {
            "text/plain": [
              "Text(0.5, 1.0, 'Accuracy Curves')"
            ]
          },
          "metadata": {
            "tags": []
          },
          "execution_count": 12
        },
        {
          "output_type": "display_data",
          "data": {
            "image/png": "[encoded data removed]",
            "text/plain": [
              "<Figure size 432x288 with 1 Axes>"
            ]
          },
          "metadata": {
            "tags": []
          }
        }
      ]
    },
    {
      "cell_type": "code",
      "metadata": {
        "id": "206pJQUjLfQe",
        "colab_type": "code",
        "colab": {
          "base_uri": "https://localhost:8080/",
          "height": 319
        },
        "outputId": "c31b497f-f6d1-4fd0-d6a5-defca71134b3"
      },
      "source": [
        "# #Tracer  la courbe   de la fonction de perte du model pour training et testing \n",
        "plt.plot(history.history['loss'], 'g', linewidth=3.0, label='Training Loss')\n",
        "plt.plot(history.history['val_loss'], 'y', linewidth=3.0, label='Testing Loss')\n",
        "plt.legend(fontsize=18)\n",
        "plt.xlabel('Epochs ', fontsize=16)\n",
        "plt.ylabel('Loss', fontsize=16)\n",
        "plt.title('Loss Curves', fontsize=16)"
      ],
      "execution_count": 13,
      "outputs": [
        {
          "output_type": "execute_result",
          "data": {
            "text/plain": [
              "Text(0.5, 1.0, 'Loss Curves')"
            ]
          },
          "metadata": {
            "tags": []
          },
          "execution_count": 13
        },
        {
          "output_type": "display_data",
          "data": {
            "image/png": "[encoded data removed]",
            "text/plain": [
              "<Figure size 432x288 with 1 Axes>"
            ]
          },
          "metadata": {
            "tags": []
          }
        }
      ]
    },
    {
      "cell_type": "code",
      "metadata": {
        "id": "Q5iLhc08DbYx",
        "colab_type": "code",
        "colab": {}
      },
      "source": [
        ""
      ],
      "execution_count": 0,
      "outputs": []
    },
    {
      "cell_type": "code",
      "metadata": {
        "id": "dY_NrBKqeme7",
        "colab_type": "code",
        "colab": {}
      },
      "source": [
        ""
      ],
      "execution_count": 0,
      "outputs": []
    }
  ]
}