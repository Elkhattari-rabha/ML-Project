{
  "nbformat": 4,
  "nbformat_minor": 0,
  "metadata": {
    "colab": {
      "name": "ICCN-INPT-Projet_ML-groupe: elkhattari & el-yahyaoui",
      "provenance": [],
      "collapsed_sections": [],
      "include_colab_link": true
    },
    "kernelspec": {
      "name": "python3",
      "display_name": "Python 3"
    }
  },
  "cells": [
    {
      "cell_type": "markdown",
      "metadata": {
        "id": "view-in-github",
        "colab_type": "text"
      },
      "source": [
        "<a href=\"https://colab.research.google.com/github/elyahyaouiabdenasser/ML-Project/blob/master/ICCN_INPT_Projet_ML_groupe_elkhattari_%26_el_yahyaoui.ipynb\" target=\"_parent\"><img src=\"https://colab.research.google.com/assets/colab-badge.svg\" alt=\"Open In Colab\"/></a>"
      ]
    },
    {
      "cell_type": "code",
      "metadata": {
        "colab_type": "code",
        "id": "BOFKTp-t2WyK",
        "colab": {
          "base_uri": "https://localhost:8080/",
          "height": 34
        },
        "outputId": "4cca974f-557f-4799-eccd-a5d9eb68ebfd"
      },
      "source": [
        "from google.colab import drive\n",
        "drive.mount('/content/drive')"
      ],
      "execution_count": 14,
      "outputs": [
        {
          "output_type": "stream",
          "text": [
            "Drive already mounted at /content/drive; to attempt to forcibly remount, call drive.mount(\"/content/drive\", force_remount=True).\n"
          ],
          "name": "stdout"
        }
      ]
    },
    {
      "cell_type": "code",
      "metadata": {
        "id": "3nvPL4GUamD5",
        "colab_type": "code",
        "outputId": "c4821787-2b7c-4063-880d-ad1efc08b185",
        "colab": {
          "base_uri": "https://localhost:8080/",
          "height": 34
        }
      },
      "source": [
        "from scipy.io import loadmat\n",
        "data_path1='/content/drive/My Drive/notre base de données/'\n",
        "print(\"Loading data training set\")        \n",
        "dataset =loadmat('/content/drive/My Drive/notre base de données/' + 'trainingset.mat')\n",
        "X = dataset['trainset']\n",
        "y = dataset['traintarget']"
      ],
      "execution_count": 15,
      "outputs": [
        {
          "output_type": "stream",
          "text": [
            "Loading data training set\n"
          ],
          "name": "stdout"
        }
      ]
    },
    {
      "cell_type": "code",
      "metadata": {
        "id": "wCVJmbSCbIDL",
        "colab_type": "code",
        "colab": {}
      },
      "source": [
        "import numpy as np\n",
        "from sklearn.model_selection import train_test_split\n",
        "X_train1,X_test,y_train1,y_test=train_test_split(X,y,test_size=0.2)\n",
        "X_train,X_val,y_train,y_val=train_test_split(X_train1,y_train1,test_size=0.1)"
      ],
      "execution_count": 0,
      "outputs": []
    },
    {
      "cell_type": "code",
      "metadata": {
        "id": "k44mS7NsDgxp",
        "colab_type": "code",
        "colab": {}
      },
      "source": [
        "\n",
        "from __future__ import absolute_import, division, print_function, unicode_literals\n",
        "\n",
        "import tensorflow as tf\n",
        "\n",
        "from tensorflow import keras\n"
      ],
      "execution_count": 0,
      "outputs": []
    },
    {
      "cell_type": "code",
      "metadata": {
        "id": "vOIG4aH5bqeh",
        "colab_type": "code",
        "colab": {}
      },
      "source": [
        "from tensorflow.keras import layers\n",
        "#notre model est vide mtn qu'on va le remplir\n",
        "model = tf.keras.Sequential()\n",
        "#input_dim nbr de variable en entré \n",
        "model.add(layers.Dense(128,activation=\"relu\"))\n",
        "#par default l'entré \n",
        "model.add(layers.Dense(64,activation=\"relu\"))\n",
        "model.add(layers.Dense(4,activation=\"relu\"))"
      ],
      "execution_count": 0,
      "outputs": []
    },
    {
      "cell_type": "code",
      "metadata": {
        "id": "4CzpP9FgsnZk",
        "colab_type": "code",
        "colab": {}
      },
      "source": [
        "#accurancy=nbr correct  des predictions sur le nbr total\n",
        "\n",
        "model.compile(loss=\"binary_crossentropy\",optimizer=\"sgd\",metrics=[\"accuracy\"])"
      ],
      "execution_count": 0,
      "outputs": []
    },
    {
      "cell_type": "code",
      "metadata": {
        "id": "1iWIJmK_syVd",
        "colab_type": "code",
        "colab": {
          "base_uri": "https://localhost:8080/",
          "height": 1000
        },
        "outputId": "0eea51d4-7a6c-4a73-f98b-b1e113529887"
      },
      "source": [
        "#batc_size = le lot qui contient les element à traiter à la fois \n",
        "history=model.fit(X_train,y_train,validation_data=(X_val,y_val),epochs=60,batch_size=100)\n",
        "#_,acc=model.evaluate(X,y"
      ],
      "execution_count": 20,
      "outputs": [
        {
          "output_type": "stream",
          "text": [
            "Epoch 1/60\n",
            "101/101 [==============================] - 3s 30ms/step - loss: 2.0247 - accuracy: 0.2315 - val_loss: 1.7016 - val_accuracy: 0.2574\n",
            "Epoch 2/60\n",
            "101/101 [==============================] - 3s 28ms/step - loss: 1.6061 - accuracy: 0.3166 - val_loss: 1.5829 - val_accuracy: 0.3148\n",
            "Epoch 3/60\n",
            "101/101 [==============================] - 3s 29ms/step - loss: 1.4943 - accuracy: 0.3490 - val_loss: 1.5589 - val_accuracy: 0.3121\n",
            "Epoch 4/60\n",
            "101/101 [==============================] - 3s 28ms/step - loss: 1.5229 - accuracy: 0.3597 - val_loss: 1.5906 - val_accuracy: 0.3318\n",
            "Epoch 5/60\n",
            "101/101 [==============================] - 3s 29ms/step - loss: 1.9949 - accuracy: 0.2808 - val_loss: 2.2749 - val_accuracy: 0.1910\n",
            "Epoch 6/60\n",
            "101/101 [==============================] - 3s 29ms/step - loss: 2.5279 - accuracy: 0.2050 - val_loss: 2.4174 - val_accuracy: 0.1991\n",
            "Epoch 7/60\n",
            "101/101 [==============================] - 3s 29ms/step - loss: 2.4133 - accuracy: 0.2408 - val_loss: 2.3289 - val_accuracy: 0.2233\n",
            "Epoch 8/60\n",
            "101/101 [==============================] - 3s 28ms/step - loss: 2.3155 - accuracy: 0.2729 - val_loss: 2.2257 - val_accuracy: 0.2547\n",
            "Epoch 9/60\n",
            "101/101 [==============================] - 3s 29ms/step - loss: 2.3521 - accuracy: 0.2593 - val_loss: 2.2909 - val_accuracy: 0.2350\n",
            "Epoch 10/60\n",
            "101/101 [==============================] - 3s 28ms/step - loss: 2.3441 - accuracy: 0.2606 - val_loss: 2.0560 - val_accuracy: 0.2664\n",
            "Epoch 11/60\n",
            "101/101 [==============================] - 3s 28ms/step - loss: 2.1615 - accuracy: 0.2856 - val_loss: 2.0371 - val_accuracy: 0.2735\n",
            "Epoch 12/60\n",
            "101/101 [==============================] - 3s 28ms/step - loss: 2.1429 - accuracy: 0.2879 - val_loss: 2.0723 - val_accuracy: 0.2637\n",
            "Epoch 13/60\n",
            "101/101 [==============================] - 3s 28ms/step - loss: 2.1442 - accuracy: 0.2882 - val_loss: 2.0617 - val_accuracy: 0.2682\n",
            "Epoch 14/60\n",
            "101/101 [==============================] - 3s 28ms/step - loss: 2.1150 - accuracy: 0.2924 - val_loss: 2.0210 - val_accuracy: 0.2691\n",
            "Epoch 15/60\n",
            "101/101 [==============================] - 3s 28ms/step - loss: 2.0702 - accuracy: 0.2951 - val_loss: 1.9758 - val_accuracy: 0.2762\n",
            "Epoch 16/60\n",
            "101/101 [==============================] - 3s 28ms/step - loss: 2.0628 - accuracy: 0.2969 - val_loss: 1.9645 - val_accuracy: 0.2789\n",
            "Epoch 17/60\n",
            "101/101 [==============================] - 3s 28ms/step - loss: 2.0237 - accuracy: 0.2981 - val_loss: 1.9013 - val_accuracy: 0.2852\n",
            "Epoch 18/60\n",
            "101/101 [==============================] - 3s 28ms/step - loss: 2.0964 - accuracy: 0.2827 - val_loss: 2.3832 - val_accuracy: 0.2242\n",
            "Epoch 19/60\n",
            "101/101 [==============================] - 3s 28ms/step - loss: 3.5919 - accuracy: 0.2132 - val_loss: 4.6804 - val_accuracy: 0.1883\n",
            "Epoch 20/60\n",
            "101/101 [==============================] - 3s 28ms/step - loss: 4.8010 - accuracy: 0.1801 - val_loss: 4.6804 - val_accuracy: 0.1883\n",
            "Epoch 21/60\n",
            "101/101 [==============================] - 3s 28ms/step - loss: 4.7881 - accuracy: 0.1801 - val_loss: 4.6804 - val_accuracy: 0.1883\n",
            "Epoch 22/60\n",
            "101/101 [==============================] - 3s 28ms/step - loss: 4.7892 - accuracy: 0.1801 - val_loss: 4.6804 - val_accuracy: 0.1883\n",
            "Epoch 23/60\n",
            "101/101 [==============================] - 3s 28ms/step - loss: 4.7902 - accuracy: 0.1801 - val_loss: 4.6804 - val_accuracy: 0.1883\n",
            "Epoch 24/60\n",
            "101/101 [==============================] - 3s 28ms/step - loss: 4.7913 - accuracy: 0.1801 - val_loss: 4.6804 - val_accuracy: 0.1883\n",
            "Epoch 25/60\n",
            "101/101 [==============================] - 3s 28ms/step - loss: 4.8054 - accuracy: 0.1801 - val_loss: 4.6804 - val_accuracy: 0.1883\n",
            "Epoch 26/60\n",
            "101/101 [==============================] - 3s 28ms/step - loss: 4.7946 - accuracy: 0.1801 - val_loss: 4.6804 - val_accuracy: 0.1883\n",
            "Epoch 27/60\n",
            "101/101 [==============================] - 3s 28ms/step - loss: 4.7957 - accuracy: 0.1801 - val_loss: 4.6804 - val_accuracy: 0.1883\n",
            "Epoch 28/60\n",
            "101/101 [==============================] - 3s 28ms/step - loss: 4.7924 - accuracy: 0.1801 - val_loss: 4.6804 - val_accuracy: 0.1883\n",
            "Epoch 29/60\n",
            "101/101 [==============================] - 3s 28ms/step - loss: 4.7967 - accuracy: 0.1801 - val_loss: 4.6804 - val_accuracy: 0.1883\n",
            "Epoch 30/60\n",
            "101/101 [==============================] - 3s 28ms/step - loss: 4.7881 - accuracy: 0.1801 - val_loss: 4.6804 - val_accuracy: 0.1883\n",
            "Epoch 31/60\n",
            "101/101 [==============================] - 3s 28ms/step - loss: 4.7902 - accuracy: 0.1801 - val_loss: 4.6804 - val_accuracy: 0.1883\n",
            "Epoch 32/60\n",
            "101/101 [==============================] - 3s 28ms/step - loss: 4.7967 - accuracy: 0.1801 - val_loss: 4.6804 - val_accuracy: 0.1883\n",
            "Epoch 33/60\n",
            "101/101 [==============================] - 3s 29ms/step - loss: 4.7989 - accuracy: 0.1801 - val_loss: 4.6804 - val_accuracy: 0.1883\n",
            "Epoch 34/60\n",
            "101/101 [==============================] - 3s 28ms/step - loss: 4.8021 - accuracy: 0.1801 - val_loss: 4.6804 - val_accuracy: 0.1883\n",
            "Epoch 35/60\n",
            "101/101 [==============================] - 3s 28ms/step - loss: 4.7892 - accuracy: 0.1801 - val_loss: 4.6804 - val_accuracy: 0.1883\n",
            "Epoch 36/60\n",
            "101/101 [==============================] - 3s 29ms/step - loss: 4.7957 - accuracy: 0.1801 - val_loss: 4.6804 - val_accuracy: 0.1883\n",
            "Epoch 37/60\n",
            "101/101 [==============================] - 3s 28ms/step - loss: 4.8021 - accuracy: 0.1801 - val_loss: 4.6804 - val_accuracy: 0.1883\n",
            "Epoch 38/60\n",
            "101/101 [==============================] - 3s 28ms/step - loss: 4.7946 - accuracy: 0.1801 - val_loss: 4.6804 - val_accuracy: 0.1883\n",
            "Epoch 39/60\n",
            "101/101 [==============================] - 3s 29ms/step - loss: 4.7902 - accuracy: 0.1801 - val_loss: 4.6804 - val_accuracy: 0.1883\n",
            "Epoch 40/60\n",
            "101/101 [==============================] - 3s 28ms/step - loss: 4.7913 - accuracy: 0.1801 - val_loss: 4.6804 - val_accuracy: 0.1883\n",
            "Epoch 41/60\n",
            "101/101 [==============================] - 3s 28ms/step - loss: 4.7913 - accuracy: 0.1801 - val_loss: 4.6804 - val_accuracy: 0.1883\n",
            "Epoch 42/60\n",
            "101/101 [==============================] - 3s 27ms/step - loss: 4.7892 - accuracy: 0.1801 - val_loss: 4.6804 - val_accuracy: 0.1883\n",
            "Epoch 43/60\n",
            "101/101 [==============================] - 3s 27ms/step - loss: 4.7978 - accuracy: 0.1801 - val_loss: 4.6804 - val_accuracy: 0.1883\n",
            "Epoch 44/60\n",
            "101/101 [==============================] - 3s 27ms/step - loss: 4.7935 - accuracy: 0.1801 - val_loss: 4.6804 - val_accuracy: 0.1883\n",
            "Epoch 45/60\n",
            "101/101 [==============================] - 3s 27ms/step - loss: 4.7967 - accuracy: 0.1801 - val_loss: 4.6804 - val_accuracy: 0.1883\n",
            "Epoch 46/60\n",
            "101/101 [==============================] - 3s 27ms/step - loss: 4.7967 - accuracy: 0.1801 - val_loss: 4.6804 - val_accuracy: 0.1883\n",
            "Epoch 47/60\n",
            "101/101 [==============================] - 3s 27ms/step - loss: 4.7902 - accuracy: 0.1801 - val_loss: 4.6804 - val_accuracy: 0.1883\n",
            "Epoch 48/60\n",
            "101/101 [==============================] - 3s 27ms/step - loss: 4.7903 - accuracy: 0.1801 - val_loss: 4.6804 - val_accuracy: 0.1883\n",
            "Epoch 49/60\n",
            "101/101 [==============================] - 3s 27ms/step - loss: 4.7913 - accuracy: 0.1801 - val_loss: 4.6804 - val_accuracy: 0.1883\n",
            "Epoch 50/60\n",
            "101/101 [==============================] - 3s 27ms/step - loss: 4.7957 - accuracy: 0.1801 - val_loss: 4.6804 - val_accuracy: 0.1883\n",
            "Epoch 51/60\n",
            "101/101 [==============================] - 3s 27ms/step - loss: 4.7946 - accuracy: 0.1801 - val_loss: 4.6804 - val_accuracy: 0.1883\n",
            "Epoch 52/60\n",
            "101/101 [==============================] - 3s 27ms/step - loss: 4.7881 - accuracy: 0.1801 - val_loss: 4.6804 - val_accuracy: 0.1883\n",
            "Epoch 53/60\n",
            "101/101 [==============================] - 3s 27ms/step - loss: 4.7935 - accuracy: 0.1801 - val_loss: 4.6804 - val_accuracy: 0.1883\n",
            "Epoch 54/60\n",
            "101/101 [==============================] - 3s 27ms/step - loss: 4.7935 - accuracy: 0.1801 - val_loss: 4.6804 - val_accuracy: 0.1883\n",
            "Epoch 55/60\n",
            "101/101 [==============================] - 3s 27ms/step - loss: 4.7956 - accuracy: 0.1801 - val_loss: 4.6804 - val_accuracy: 0.1883\n",
            "Epoch 56/60\n",
            "101/101 [==============================] - 3s 28ms/step - loss: 4.7945 - accuracy: 0.1801 - val_loss: 4.6804 - val_accuracy: 0.1883\n",
            "Epoch 57/60\n",
            "101/101 [==============================] - 3s 28ms/step - loss: 4.7859 - accuracy: 0.1801 - val_loss: 4.6804 - val_accuracy: 0.1883\n",
            "Epoch 58/60\n",
            "101/101 [==============================] - 3s 28ms/step - loss: 4.7945 - accuracy: 0.1801 - val_loss: 4.6804 - val_accuracy: 0.1883\n",
            "Epoch 59/60\n",
            "101/101 [==============================] - 3s 33ms/step - loss: 4.7967 - accuracy: 0.1801 - val_loss: 4.6804 - val_accuracy: 0.1883\n",
            "Epoch 60/60\n",
            "101/101 [==============================] - 3s 28ms/step - loss: 4.7946 - accuracy: 0.1801 - val_loss: 4.6804 - val_accuracy: 0.1883\n"
          ],
          "name": "stdout"
        }
      ]
    },
    {
      "cell_type": "code",
      "metadata": {
        "id": "xtoGgP8up2nE",
        "colab_type": "code",
        "colab": {
          "base_uri": "https://localhost:8080/",
          "height": 141
        },
        "outputId": "a04756f0-5a36-4201-e905-365bb245cce8"
      },
      "source": [
        "\n",
        "# The returned \"history\" object holds a record of the loss values and metric values during training\n",
        "print('\\nhistory dict:', history.history)\n",
        "\n",
        "# Evaluate the model on the test data using `evaluate`\n",
        "print('\\n# Evaluate on test data')\n",
        "results = model.evaluate(X_test, y_test, batch_size=128)\n",
        "print('test loss, test acc:', results)\n",
        "#prediction \n",
        "#model.predict(X_val)"
      ],
      "execution_count": 21,
      "outputs": [
        {
          "output_type": "stream",
          "text": [
            "\n",
            "history dict: {'loss': [2.024696111679077, 1.6061407327651978, 1.494309663772583, 1.5228732824325562, 1.9949424266815186, 2.5279364585876465, 2.413339138031006, 2.3155031204223633, 2.3521199226379395, 2.344094753265381, 2.1614534854888916, 2.142942428588867, 2.1442012786865234, 2.115006685256958, 2.070166826248169, 2.062809705734253, 2.0236711502075195, 2.096367597579956, 3.5918712615966797, 4.8010478019714355, 4.788081645965576, 4.789156913757324, 4.790218830108643, 4.7912917137146, 4.805382251739502, 4.794554233551025, 4.795650959014893, 4.792393207550049, 4.796713352203369, 4.788082599639893, 4.790230751037598, 4.796726703643799, 4.7988996505737305, 4.802110195159912, 4.789156913757324, 4.795663833618164, 4.8021464347839355, 4.794564723968506, 4.7902302742004395, 4.791304588317871, 4.791328430175781, 4.789156913757324, 4.7978129386901855, 4.793464660644531, 4.796700954437256, 4.796713829040527, 4.790242671966553, 4.790254592895508, 4.791316509246826, 4.795652389526367, 4.794553756713867, 4.7880940437316895, 4.793454170227051, 4.7934794425964355, 4.795626163482666, 4.794527053833008, 4.7858967781066895, 4.7945404052734375, 4.79673957824707, 4.794564247131348], 'accuracy': [0.2314981073141098, 0.31657689809799194, 0.34899261593818665, 0.3596648573875427, 0.2807700037956238, 0.20496708154678345, 0.2407739907503128, 0.27289047837257385, 0.2593257427215576, 0.26062238216400146, 0.2855575382709503, 0.28785157203674316, 0.288150817155838, 0.29243966937065125, 0.29513266682624817, 0.2969279885292053, 0.29812487959861755, 0.28266507387161255, 0.21324555575847626, 0.18013165891170502, 0.18013165891170502, 0.18013165891170502, 0.18013165891170502, 0.18013165891170502, 0.18013165891170502, 0.18013165891170502, 0.18013165891170502, 0.18013165891170502, 0.18013165891170502, 0.18013165891170502, 0.18013165891170502, 0.18013165891170502, 0.18013165891170502, 0.18013165891170502, 0.18013165891170502, 0.18013165891170502, 0.18013165891170502, 0.18013165891170502, 0.18013165891170502, 0.18013165891170502, 0.18013165891170502, 0.18013165891170502, 0.18013165891170502, 0.18013165891170502, 0.18013165891170502, 0.18013165891170502, 0.18013165891170502, 0.18013165891170502, 0.18013165891170502, 0.18013165891170502, 0.18013165891170502, 0.18013165891170502, 0.18013165891170502, 0.18013165891170502, 0.18013165891170502, 0.18013165891170502, 0.18013165891170502, 0.18013165891170502, 0.18013165891170502, 0.18013165891170502], 'val_loss': [1.7016154527664185, 1.5829349756240845, 1.558945655822754, 1.5906034708023071, 2.274850845336914, 2.417357921600342, 2.3289363384246826, 2.225694417953491, 2.2909252643585205, 2.0559682846069336, 2.0370819568634033, 2.0723464488983154, 2.0617074966430664, 2.020979642868042, 1.975765585899353, 1.964457631111145, 1.9013257026672363, 2.38315486907959, 4.680359363555908, 4.680359363555908, 4.680359363555908, 4.680359363555908, 4.680359363555908, 4.680359363555908, 4.680359363555908, 4.680359363555908, 4.680359363555908, 4.680359363555908, 4.680359363555908, 4.680359363555908, 4.680359363555908, 4.680359363555908, 4.680359363555908, 4.680359363555908, 4.680359363555908, 4.680359363555908, 4.680359363555908, 4.680359363555908, 4.680359363555908, 4.680359363555908, 4.680359363555908, 4.680359363555908, 4.680359363555908, 4.680359363555908, 4.680359363555908, 4.680359363555908, 4.680359363555908, 4.680359363555908, 4.680359363555908, 4.680359363555908, 4.680359363555908, 4.680359363555908, 4.680359363555908, 4.680359363555908, 4.680359363555908, 4.680359363555908, 4.680359363555908, 4.680359363555908, 4.680359363555908, 4.680359363555908], 'val_accuracy': [0.2573991119861603, 0.3147982060909271, 0.3121076226234436, 0.33183857798576355, 0.19103139638900757, 0.19910313189029694, 0.22331838309764862, 0.25470852851867676, 0.2349775731563568, 0.26636770367622375, 0.2735426127910614, 0.26367712020874023, 0.26816144585609436, 0.2690582871437073, 0.2762331962585449, 0.27892377972602844, 0.2852017879486084, 0.22421523928642273, 0.18834081292152405, 0.18834081292152405, 0.18834081292152405, 0.18834081292152405, 0.18834081292152405, 0.18834081292152405, 0.18834081292152405, 0.18834081292152405, 0.18834081292152405, 0.18834081292152405, 0.18834081292152405, 0.18834081292152405, 0.18834081292152405, 0.18834081292152405, 0.18834081292152405, 0.18834081292152405, 0.18834081292152405, 0.18834081292152405, 0.18834081292152405, 0.18834081292152405, 0.18834081292152405, 0.18834081292152405, 0.18834081292152405, 0.18834081292152405, 0.18834081292152405, 0.18834081292152405, 0.18834081292152405, 0.18834081292152405, 0.18834081292152405, 0.18834081292152405, 0.18834081292152405, 0.18834081292152405, 0.18834081292152405, 0.18834081292152405, 0.18834081292152405, 0.18834081292152405, 0.18834081292152405, 0.18834081292152405, 0.18834081292152405, 0.18834081292152405, 0.18834081292152405, 0.18834081292152405]}\n",
            "\n",
            "# Evaluate on test data\n",
            "22/22 [==============================] - 0s 15ms/step - loss: 4.7045 - accuracy: 0.1942\n",
            "test loss, test acc: [4.704490661621094, 0.19418521225452423]\n"
          ],
          "name": "stdout"
        }
      ]
    },
    {
      "cell_type": "code",
      "metadata": {
        "id": "c-V1e8_iLV3L",
        "colab_type": "code",
        "colab": {
          "base_uri": "https://localhost:8080/",
          "height": 319
        },
        "outputId": "1f8a316b-4ad6-4401-dce8-191c0dcf67ec"
      },
      "source": [
        "#Tracer  la courbe   Accuracy du model pour training et testing \n",
        "import matplotlib.pyplot as plt\n",
        "plt.plot(history.history['accuracy'],'r',linewidth=3.0, label='Training Accuracy')\n",
        "plt.plot(history.history['val_accuracy'],'b',linewidth=3.0, label='Testing Accuracy')\n",
        "plt.legend(fontsize=18)\n",
        "plt.xlabel('Epochs ', fontsize=16)\n",
        "plt.ylabel('Accuracy', fontsize=16)\n",
        "plt.title('Accuracy Curves', fontsize=16)"
      ],
      "execution_count": 22,
      "outputs": [
        {
          "output_type": "execute_result",
          "data": {
            "text/plain": [
              "Text(0.5, 1.0, 'Accuracy Curves')"
            ]
          },
          "metadata": {
            "tags": []
          },
          "execution_count": 22
        },
        {
          "output_type": "display_data",
          "data": {
            "image/png": "[encoded data removed]",
            "text/plain": [
              "<Figure size 432x288 with 1 Axes>"
            ]
          },
          "metadata": {
            "tags": []
          }
        }
      ]
    },
    {
      "cell_type": "code",
      "metadata": {
        "id": "206pJQUjLfQe",
        "colab_type": "code",
        "colab": {
          "base_uri": "https://localhost:8080/",
          "height": 319
        },
        "outputId": "d48f58ee-8512-4fa1-dbd7-f651f674cab6"
      },
      "source": [
        "# #Tracer  la courbe   de la fonction de perte du model pour training et testing \n",
        "plt.plot(history.history['loss'], 'g', linewidth=3.0, label='Training Loss')\n",
        "plt.plot(history.history['val_loss'], 'y', linewidth=3.0, label='Testing Loss')\n",
        "plt.legend(fontsize=18)\n",
        "plt.xlabel('Epochs ', fontsize=16)\n",
        "plt.ylabel('Loss', fontsize=16)\n",
        "plt.title('Loss Curves', fontsize=16)"
      ],
      "execution_count": 23,
      "outputs": [
        {
          "output_type": "execute_result",
          "data": {
            "text/plain": [
              "Text(0.5, 1.0, 'Loss Curves')"
            ]
          },
          "metadata": {
            "tags": []
          },
          "execution_count": 23
        },
        {
          "output_type": "display_data",
          "data": {
            "image/png": "[encoded data removed]",
            "text/plain": [
              "<Figure size 432x288 with 1 Axes>"
            ]
          },
          "metadata": {
            "tags": []
          }
        }
      ]
    },
    {
      "cell_type": "code",
      "metadata": {
        "id": "Q5iLhc08DbYx",
        "colab_type": "code",
        "colab": {}
      },
      "source": [
        ""
      ],
      "execution_count": 0,
      "outputs": []
    },
    {
      "cell_type": "code",
      "metadata": {
        "id": "dY_NrBKqeme7",
        "colab_type": "code",
        "colab": {}
      },
      "source": [
        ""
      ],
      "execution_count": 0,
      "outputs": []
    }
  ]
}
